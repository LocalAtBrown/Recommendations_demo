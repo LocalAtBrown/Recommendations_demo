{
 "cells": [
  {
   "cell_type": "markdown",
   "metadata": {},
   "source": [
    "# Model-based Collaborative filtering with GA4 Dallas Free Press dataset"
   ]
  },
  {
   "cell_type": "markdown",
   "metadata": {},
   "source": [
    "* Dataset: GA4 DFP\n",
    "* CF-type: Model\n",
    "* Implicit/Explicit: Implicit\n",
    "* User-User/Item-Item: Does not apply"
   ]
  },
  {
   "cell_type": "markdown",
   "metadata": {},
   "source": [
    "## Approach"
   ]
  },
  {
   "cell_type": "markdown",
   "metadata": {},
   "source": [
    "In this notebook, we're going to build up a model-based collaborative filter. \n",
    "\n",
    "We're going to start by building a model with a single piece of user feedback. \n",
    "\n",
    "Once that's established, we'll start incorporating multiple sources of feedback using feature aware matrix factorization. More details [here](https://docs.google.com/document/d/1mO94wAjdVFDRKSQo7JYVkd_NsiBDkHxhfyj7u_uZY9Q/edit?tab=t.0#heading=h.yevokmfzxk7). "
   ]
  },
  {
   "cell_type": "code",
   "execution_count": null,
   "metadata": {
    "vscode": {
     "languageId": "plaintext"
    }
   },
   "outputs": [],
   "source": []
  }
 ],
 "metadata": {
  "language_info": {
   "name": "python"
  }
 },
 "nbformat": 4,
 "nbformat_minor": 2
}
